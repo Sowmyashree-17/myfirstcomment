{
 "cells": [
  {
   "cell_type": "code",
   "execution_count": 1,
   "metadata": {},
   "outputs": [],
   "source": [
    "Fhand=open('Newfile','w')\n"
   ]
  },
  {
   "cell_type": "code",
   "execution_count": 8,
   "metadata": {},
   "outputs": [
    {
     "name": "stdout",
     "output_type": "stream",
     "text": [
      "24\n"
     ]
    }
   ],
   "source": [
    "Fhand=open('Newfile','w')\n",
    "Fhand=open('newfile')\n",
    "r=Fhand.read()\n",
    "print (len(r))"
   ]
  },
  {
   "cell_type": "code",
   "execution_count": 11,
   "metadata": {},
   "outputs": [
    {
     "name": "stdout",
     "output_type": "stream",
     "text": [
      "line count: 1\n",
      "16\n",
      "hai this is file\n"
     ]
    }
   ],
   "source": [
    "fout=open('output.txt','w')\n",
    "fout.write(\"hai this is file\")\n",
    "fin=open('output.txt')\n",
    "count=0\n",
    "for line in fin:\n",
    "    count=count+1\n",
    "    print('line count:',count)\n",
    "    fread=open('output.txt')\n",
    "    inp=fread.read()\n",
    "    print(len(inp))\n",
    "    print(inp)"
   ]
  },
  {
   "cell_type": "code",
   "execution_count": 14,
   "metadata": {},
   "outputs": [],
   "source": [
    "fout=open('mbox.txt','w')\n",
    "fout.write(\"cheese\")\n",
    "xfile=open('mbox.txt')\n",
    "for cheese in xfile:\n",
    "    print(cheese)"
   ]
  },
  {
   "cell_type": "code",
   "execution_count": null,
   "metadata": {},
   "outputs": [],
   "source": []
  },
  {
   "cell_type": "code",
   "execution_count": null,
   "metadata": {},
   "outputs": [],
   "source": []
  }
 ],
 "metadata": {
  "kernelspec": {
   "display_name": "Python 3",
   "language": "python",
   "name": "python3"
  },
  "language_info": {
   "codemirror_mode": {
    "name": "ipython",
    "version": 3
   },
   "file_extension": ".py",
   "mimetype": "text/x-python",
   "name": "python",
   "nbconvert_exporter": "python",
   "pygments_lexer": "ipython3",
   "version": "3.7.1"
  }
 },
 "nbformat": 4,
 "nbformat_minor": 2
}
