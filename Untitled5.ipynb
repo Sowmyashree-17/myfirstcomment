{
 "cells": [
  {
   "cell_type": "code",
   "execution_count": 18,
   "metadata": {},
   "outputs": [
    {
     "name": "stdout",
     "output_type": "stream",
     "text": [
      "enter a:1\n",
      "enter b:1\n",
      "enter c:1\n",
      "0.8660254037844386j\n"
     ]
    }
   ],
   "source": [
    "import cmath\n",
    "a=1\n",
    "b=1\n",
    "c=1\n",
    "x=0\n",
    "a=float(input('enter a:'))\n",
    "b=float(input('enter b:'))\n",
    "c=float(input('enter c:'))\n",
    "d=(b*b-4*a*c)\n",
    "if a==0:\n",
    "     print('not a quadratic equation')\n",
    "else:\n",
    "      x=(cmath.sqrt(d)/2*a)\n",
    "print(x)\n",
    "    "
   ]
  },
  {
   "cell_type": "code",
   "execution_count": null,
   "metadata": {},
   "outputs": [],
   "source": [
    "\n",
    "  "
   ]
  },
  {
   "cell_type": "code",
   "execution_count": null,
   "metadata": {},
   "outputs": [],
   "source": []
  }
 ],
 "metadata": {
  "kernelspec": {
   "display_name": "Python 3",
   "language": "python",
   "name": "python3"
  },
  "language_info": {
   "codemirror_mode": {
    "name": "ipython",
    "version": 3
   },
   "file_extension": ".py",
   "mimetype": "text/x-python",
   "name": "python",
   "nbconvert_exporter": "python",
   "pygments_lexer": "ipython3",
   "version": "3.7.1"
  }
 },
 "nbformat": 4,
 "nbformat_minor": 2
}
